{
  "nbformat": 4,
  "nbformat_minor": 0,
  "metadata": {
    "colab": {
      "provenance": [],
      "gpuType": "T4",
      "include_colab_link": true
    },
    "kernelspec": {
      "name": "python3",
      "display_name": "Python 3"
    },
    "language_info": {
      "name": "python"
    },
    "accelerator": "GPU"
  },
  "cells": [
    {
      "cell_type": "markdown",
      "metadata": {
        "id": "view-in-github",
        "colab_type": "text"
      },
      "source": [
        "<a href=\"https://colab.research.google.com/github/ProshkinNV/Text/blob/main/GitHub_Poets_%E2%84%961.ipynb\" target=\"_parent\"><img src=\"https://colab.research.google.com/assets/colab-badge.svg\" alt=\"Open In Colab\"/></a>"
      ]
    },
    {
      "cell_type": "markdown",
      "source": [
        "**Загрузка**"
      ],
      "metadata": {
        "id": "tVFOsSpgHtr8"
      }
    },
    {
      "cell_type": "code",
      "source": [
        "print(\"     Загрузка датасэта:\\n\")\n",
        "!wget https://storage.yandexcloud.net/academy.ai/russian_literature.zip #загрузка датасэта\n",
        "\n",
        "\n",
        "print(\"\\n     Загрузка эмбединга:\\n\")\n",
        "!wget https://storage.yandexcloud.net/natasha-navec/packs/navec_hudlit_v1_12B_500K_300d_100q.tar\n",
        "\n",
        "\n",
        "print(\"\\n     Установка navec:\\n\")\n",
        "!pip install navec\n"
      ],
      "metadata": {
        "id": "qpNwf7JXHas7",
        "colab": {
          "base_uri": "https://localhost:8080/"
        },
        "outputId": "8d7d72b8-d49a-46da-ce73-335f575860b5"
      },
      "execution_count": null,
      "outputs": [
        {
          "output_type": "stream",
          "name": "stdout",
          "text": [
            "     Загрузка датасэта:\n",
            "\n",
            "--2024-04-23 00:50:21--  https://storage.yandexcloud.net/academy.ai/russian_literature.zip\n",
            "Resolving storage.yandexcloud.net (storage.yandexcloud.net)... 213.180.193.243, 2a02:6b8::1d9\n",
            "Connecting to storage.yandexcloud.net (storage.yandexcloud.net)|213.180.193.243|:443... connected.\n",
            "HTTP request sent, awaiting response... 200 OK\n",
            "Length: 21547079 (21M) [application/x-zip-compressed]\n",
            "Saving to: ‘russian_literature.zip’\n",
            "\n",
            "russian_literature. 100%[===================>]  20.55M  6.20MB/s    in 3.9s    \n",
            "\n",
            "2024-04-23 00:50:27 (5.31 MB/s) - ‘russian_literature.zip’ saved [21547079/21547079]\n",
            "\n",
            "\n",
            "     Загрузка эмбединга:\n",
            "\n",
            "--2024-04-23 00:50:27--  https://storage.yandexcloud.net/natasha-navec/packs/navec_hudlit_v1_12B_500K_300d_100q.tar\n",
            "Resolving storage.yandexcloud.net (storage.yandexcloud.net)... 213.180.193.243, 2a02:6b8::1d9\n",
            "Connecting to storage.yandexcloud.net (storage.yandexcloud.net)|213.180.193.243|:443... connected.\n",
            "HTTP request sent, awaiting response... 200 OK\n",
            "Length: 53012480 (51M) [application/x-tar]\n",
            "Saving to: ‘navec_hudlit_v1_12B_500K_300d_100q.tar’\n",
            "\n",
            "navec_hudlit_v1_12B 100%[===================>]  50.56M  10.5MB/s    in 6.7s    \n",
            "\n",
            "2024-04-23 00:50:35 (7.55 MB/s) - ‘navec_hudlit_v1_12B_500K_300d_100q.tar’ saved [53012480/53012480]\n",
            "\n",
            "\n",
            "     Установка navec:\n",
            "\n",
            "Collecting navec\n",
            "  Downloading navec-0.10.0-py3-none-any.whl (23 kB)\n",
            "Requirement already satisfied: numpy in /usr/local/lib/python3.10/dist-packages (from navec) (1.25.2)\n",
            "Installing collected packages: navec\n",
            "Successfully installed navec-0.10.0\n"
          ]
        }
      ]
    },
    {
      "cell_type": "markdown",
      "source": [
        "**Подключение библиотек**"
      ],
      "metadata": {
        "id": "Pn5tDoiDIFvd"
      }
    },
    {
      "cell_type": "code",
      "source": [
        "from keras.models import Sequential\n",
        "from keras.utils import get_file, to_categorical\n",
        "from keras.layers import Embedding, Flatten, Dense, SpatialDropout1D, BatchNormalization, Dropout, SimpleRNN\n",
        "from keras.layers import GRU, LSTM, Bidirectional, Conv1D, MaxPooling1D, GlobalMaxPooling1D\n",
        "\n",
        "from keras.preprocessing.text import Tokenizer\n",
        "\n",
        "import os   # Модуль для работы с файловой системой\n",
        "\n",
        "import glob # Вспомогательный модуль для работы с файловой системой\n",
        "import numpy as np\n",
        "\n",
        "from navec import Navec\n",
        "\n",
        "from sklearn.metrics import confusion_matrix, ConfusionMatrixDisplay # Для работы с матрицей ошибок\n",
        "\n",
        "import matplotlib.pyplot as plt\n",
        "%matplotlib inline"
      ],
      "metadata": {
        "id": "pnCXzHOvIIqR"
      },
      "execution_count": null,
      "outputs": []
    },
    {
      "cell_type": "code",
      "source": [
        "navec = Navec.load('navec_hudlit_v1_12B_500K_300d_100q.tar')"
      ],
      "metadata": {
        "id": "nxNBrCL2IOow"
      },
      "execution_count": null,
      "outputs": []
    },
    {
      "cell_type": "markdown",
      "source": [
        "**Извлечение датасэта**"
      ],
      "metadata": {
        "id": "vqh3LkMBIXtW"
      }
    },
    {
      "cell_type": "code",
      "source": [
        "# Разархивируем датасета во временную папку 'dataset'\n",
        "!unzip -qo \"russian_literature\" -d ./dataset"
      ],
      "metadata": {
        "id": "OBaIM9tzIn6j"
      },
      "execution_count": null,
      "outputs": []
    },
    {
      "cell_type": "markdown",
      "source": [
        "**Формирование меток**"
      ],
      "metadata": {
        "id": "qNgHKYWPI2tO"
      }
    },
    {
      "cell_type": "code",
      "source": [
        "!dir ./dataset/prose\n",
        "!dir ./dataset/poems\n",
        "!dir ./dataset/publicism"
      ],
      "metadata": {
        "colab": {
          "base_uri": "https://localhost:8080/"
        },
        "id": "00n02nO4I5BE",
        "outputId": "ff5b17ed-e1c5-4dbc-b5ef-8e6e70264221"
      },
      "execution_count": null,
      "outputs": [
        {
          "output_type": "stream",
          "name": "stdout",
          "text": [
            "Blok  Bryusov  Chekhov\tDostoevsky  Gogol  Gorky  Herzen  Lermontov  Pushkin  Tolstoy  Turgenev\n",
            "Blok  Lermontov  Nekrasov  Pushkin\n",
            "Tolstoy\n"
          ]
        }
      ]
    },
    {
      "cell_type": "code",
      "source": [
        "CLASS_LIST_TEMP = []\n",
        "\n",
        "temp_poems = os.listdir('./dataset/poems')\n",
        "temp_prose = os.listdir('./dataset/prose')\n",
        "temp_publicism = os.listdir('./dataset/publicism')\n",
        "\n",
        "CLASS_LIST_TEMP.extend(temp_poems)\n",
        "CLASS_LIST_TEMP.extend(temp_prose)\n",
        "CLASS_LIST_TEMP.extend(temp_publicism)\n",
        "\n",
        "#uniq\n",
        "CLASS_LIST_TEMP = set(CLASS_LIST_TEMP)\n",
        "\n",
        "#set to array\n",
        "CLASS_LIST_TEMP = np.array(list(CLASS_LIST_TEMP))\n",
        "\n",
        "print(CLASS_LIST_TEMP)"
      ],
      "metadata": {
        "colab": {
          "base_uri": "https://localhost:8080/"
        },
        "id": "PR-JzQOmI972",
        "outputId": "81228913-33c6-4c10-e45d-7ce6e266fe29"
      },
      "execution_count": null,
      "outputs": [
        {
          "output_type": "stream",
          "name": "stdout",
          "text": [
            "['Herzen' 'Dostoevsky' 'Tolstoy' 'Nekrasov' 'Gorky' 'Pushkin' 'Blok'\n",
            " 'Gogol' 'Chekhov' 'Turgenev' 'Lermontov' 'Bryusov']\n"
          ]
        }
      ]
    },
    {
      "cell_type": "markdown",
      "source": [
        "**Формирование датасэта**"
      ],
      "metadata": {
        "id": "_gLA9s37Kdpn"
      }
    },
    {
      "cell_type": "code",
      "source": [
        "all_texts = {} # Собираем в словарь весь датасет\n",
        "dict_mean = dict()\n",
        "for author in CLASS_LIST_TEMP:\n",
        "  all_texts[author] = '' # Инициализируем пустой строкой новый ключ словаря\n",
        "  for path in glob.glob('./dataset/prose/{}/*.txt'.format(author)) +  glob.glob('./dataset/poems/{}/*.txt'.format(author)): # Поиск файлов по шаблону\n",
        "    with open(f'{path}', 'r', errors='ignore') as f: # игнорируем ошибки (например символы из другой кодировки)\n",
        "                # Загрузка содержимого файла в строку\n",
        "                text = f.read()\n",
        "\n",
        "    all_texts[author]  += ' ' + text.replace('\\n', ' ') # Заменяем символ перехода на новую строку пробелом\n",
        "\n",
        "# используем генератор цикла для получения длины текстов по каждому автору\n",
        "total = sum(len(i) for i in all_texts.values())\n",
        "print(f'Датасет состоит из {total} символов')\n",
        "\n",
        "print('Общая выборка по писателям:')\n",
        "for author in CLASS_LIST_TEMP:\n",
        "    # удобный метод форматирования 2 знака после запятой f'{ВЫРАЖЕНИЕ:.2f}'\n",
        "    print(f'{author} - {len(all_texts[author])} символов, доля в общей базе: {len(all_texts[author])/total*100 :.2f}%')\n",
        "    dict_mean[author] = len(all_texts[author])/total*100"
      ],
      "metadata": {
        "colab": {
          "base_uri": "https://localhost:8080/"
        },
        "id": "8J5R-Tb2KU-8",
        "outputId": "8c8a8c75-6f52-4c1f-daa9-86ad8f5c5dd8"
      },
      "execution_count": null,
      "outputs": [
        {
          "output_type": "stream",
          "name": "stdout",
          "text": [
            "Датасет состоит из 38146925 символов\n",
            "Общая выборка по писателям:\n",
            "Herzen - 1282316 символов, доля в общей базе: 3.36%\n",
            "Dostoevsky - 11221679 символов, доля в общей базе: 29.42%\n",
            "Tolstoy - 9392435 символов, доля в общей базе: 24.62%\n",
            "Nekrasov - 351258 символов, доля в общей базе: 0.92%\n",
            "Gorky - 4324025 символов, доля в общей базе: 11.34%\n",
            "Pushkin - 1399557 символов, доля в общей базе: 3.67%\n",
            "Blok - 604204 символов, доля в общей базе: 1.58%\n",
            "Gogol - 2196599 символов, доля в общей базе: 5.76%\n",
            "Chekhov - 1834330 символов, доля в общей базе: 4.81%\n",
            "Turgenev - 2345243 символов, доля в общей базе: 6.15%\n",
            "Lermontov - 364382 символов, доля в общей базе: 0.96%\n",
            "Bryusov - 2830897 символов, доля в общей базе: 7.42%\n"
          ]
        }
      ]
    },
    {
      "cell_type": "code",
      "source": [
        "for item in dict_mean:\n",
        "  print(f'Автор: {item} значение: {dict_mean[item]:.2f}%')\n",
        "\n",
        "sorted_dict = dict(sorted(dict_mean.items(),key = lambda item:item[1],reverse=True))\n",
        "\n",
        "print(\"\\nsorted_dict:\\n\")\n",
        "for item in sorted_dict:\n",
        "\n",
        "  print(f'Автор: {item} значение: {sorted_dict[item]:.2f}%')\n",
        "\n",
        "#создание списка ключей\n",
        "list_key_sorted_dict = list(sorted_dict.keys())"
      ],
      "metadata": {
        "colab": {
          "base_uri": "https://localhost:8080/"
        },
        "id": "vjM3YL_MKalJ",
        "outputId": "c0ee574c-1769-4266-c179-b100ba4e9eb5"
      },
      "execution_count": null,
      "outputs": [
        {
          "output_type": "stream",
          "name": "stdout",
          "text": [
            "Автор: Herzen значение: 3.36%\n",
            "Автор: Dostoevsky значение: 29.42%\n",
            "Автор: Tolstoy значение: 24.62%\n",
            "Автор: Nekrasov значение: 0.92%\n",
            "Автор: Gorky значение: 11.34%\n",
            "Автор: Pushkin значение: 3.67%\n",
            "Автор: Blok значение: 1.58%\n",
            "Автор: Gogol значение: 5.76%\n",
            "Автор: Chekhov значение: 4.81%\n",
            "Автор: Turgenev значение: 6.15%\n",
            "Автор: Lermontov значение: 0.96%\n",
            "Автор: Bryusov значение: 7.42%\n",
            "\n",
            "sorted_dict:\n",
            "\n",
            "Автор: Dostoevsky значение: 29.42%\n",
            "Автор: Tolstoy значение: 24.62%\n",
            "Автор: Gorky значение: 11.34%\n",
            "Автор: Bryusov значение: 7.42%\n",
            "Автор: Turgenev значение: 6.15%\n",
            "Автор: Gogol значение: 5.76%\n",
            "Автор: Chekhov значение: 4.81%\n",
            "Автор: Pushkin значение: 3.67%\n",
            "Автор: Herzen значение: 3.36%\n",
            "Автор: Blok значение: 1.58%\n",
            "Автор: Lermontov значение: 0.96%\n",
            "Автор: Nekrasov значение: 0.92%\n"
          ]
        }
      ]
    },
    {
      "cell_type": "markdown",
      "source": [
        "Т.к. в задаче сказано, что минимальное количество классов должно быть не менее 4-х, то возьмем 4 писателя, что положительно повлияет на точность сети."
      ],
      "metadata": {
        "id": "BwL8XmVoKuKF"
      }
    },
    {
      "cell_type": "code",
      "source": [
        "CLASS_LIST=[]\n",
        "i = 0\n",
        "\n",
        "while(i<4):\n",
        "  CLASS_LIST.append(list_key_sorted_dict[i])\n",
        "  i +=1\n",
        "\n",
        "print(CLASS_LIST)"
      ],
      "metadata": {
        "colab": {
          "base_uri": "https://localhost:8080/"
        },
        "id": "gxTsQx4fKtrK",
        "outputId": "e8a08258-f4b5-4459-f717-b43166e56270"
      },
      "execution_count": null,
      "outputs": [
        {
          "output_type": "stream",
          "name": "stdout",
          "text": [
            "['Dostoevsky', 'Tolstoy', 'Gorky', 'Bryusov']\n"
          ]
        }
      ]
    },
    {
      "cell_type": "markdown",
      "source": [
        "*Формирование выборки*"
      ],
      "metadata": {
        "id": "D_BEu8MTLXun"
      }
    },
    {
      "cell_type": "code",
      "source": [
        "all_texts = {} # Собираем в словарь весь датасет\n",
        "\n",
        "for author in CLASS_LIST:\n",
        "  all_texts[author] = '' # Инициализируем пустой строкой новый ключ словаря\n",
        "  for path in glob.glob('./dataset/prose/{}/*.txt'.format(author)) +  glob.glob('./dataset/poems/{}/*.txt'.format(author)): # Поиск файлов по шаблону\n",
        "    with open(f'{path}', 'r', errors='ignore') as f: # игнорируем ошибки (например символы из другой кодировки)\n",
        "                # Загрузка содержимого файла в строку\n",
        "                text = f.read()\n",
        "\n",
        "    all_texts[author]  += ' ' + text.replace('\\n', ' ') # Заменяем символ перехода на новую строку пробелом"
      ],
      "metadata": {
        "id": "VHXIm2RhLahk"
      },
      "execution_count": null,
      "outputs": []
    },
    {
      "cell_type": "markdown",
      "source": [
        "**Токенизация**"
      ],
      "metadata": {
        "id": "GeGmma_4LOo1"
      }
    },
    {
      "cell_type": "code",
      "source": [
        "embedding_dim = 300    # размерность векторов эмбединга (300d в имени эмбединга)\n",
        "max_words = 15000      # Количество слов, рассматриваемых как признаки\n",
        "\n",
        "# Используется встроенный в Keras токенизатор для разбиения текста и построения частотного словаря\n",
        "tokenizer = Tokenizer(num_words=max_words,\n",
        "                      filters='!\"#$%&()*+,-–—./…:;<=>?@[\\\\]^_`{|}~«»\\t\\n\\xa0\\ufeff',\n",
        "                      lower=True, split=' ', char_level=False)\n",
        "\n",
        "\n",
        "# Построение частотного словаря по текстам\n",
        "tokenizer.fit_on_texts(all_texts.values())"
      ],
      "metadata": {
        "id": "JZYmuqhJLQeF"
      },
      "execution_count": null,
      "outputs": []
    },
    {
      "cell_type": "markdown",
      "source": [
        "**Преобразование текста в последовательность**"
      ],
      "metadata": {
        "id": "ORTjfIReLk9F"
      }
    },
    {
      "cell_type": "code",
      "source": [
        "seq_train = tokenizer.texts_to_sequences(all_texts.values())"
      ],
      "metadata": {
        "id": "krf5E6NnLkU7"
      },
      "execution_count": null,
      "outputs": []
    },
    {
      "cell_type": "markdown",
      "source": [
        "**Балансировка датасэта**"
      ],
      "metadata": {
        "id": "1HLSMH99MkXq"
      }
    },
    {
      "cell_type": "code",
      "source": [
        "# используем генератор цикла для получения длины текстов по каждому автору\n",
        "total = sum(len(i) for i in seq_train)\n",
        "print(f'Датасет состоит из {total} слов')"
      ],
      "metadata": {
        "colab": {
          "base_uri": "https://localhost:8080/"
        },
        "id": "DW-DA_YgMm_g",
        "outputId": "504db546-90b5-466d-eab2-5ba61dbb8e3b"
      },
      "execution_count": null,
      "outputs": [
        {
          "output_type": "stream",
          "name": "stdout",
          "text": [
            "Датасет состоит из 3701852 слов\n"
          ]
        }
      ]
    },
    {
      "cell_type": "code",
      "source": [
        "print('Общая выборка по писателям (по словам):')\n",
        "mean_list = np.array([])\n",
        "for author in CLASS_LIST:\n",
        "    cls = CLASS_LIST.index(author)\n",
        "    print(f'{author} - {len(seq_train[cls])} слов, доля в общей базе: {len(seq_train[cls])/total*100 :.2f}%')\n",
        "    mean_list = np.append(mean_list, len(seq_train[cls]))\n",
        "\n",
        "print('Среднее значение слов: ', np.round(mean_list.mean()))\n",
        "print('Медианное значение слов: ', np.median(mean_list))"
      ],
      "metadata": {
        "colab": {
          "base_uri": "https://localhost:8080/"
        },
        "id": "XxshnuEZMzEs",
        "outputId": "4aad6889-7655-4799-b511-fdbe1a866625"
      },
      "execution_count": null,
      "outputs": [
        {
          "output_type": "stream",
          "name": "stdout",
          "text": [
            "Общая выборка по писателям (по словам):\n",
            "Dostoevsky - 1553773 слов, доля в общей базе: 41.97%\n",
            "Tolstoy - 1243118 слов, доля в общей базе: 33.58%\n",
            "Gorky - 554749 слов, доля в общей базе: 14.99%\n",
            "Bryusov - 350212 слов, доля в общей базе: 9.46%\n",
            "Среднее значение слов:  925463.0\n",
            "Медианное значение слов:  898933.5\n"
          ]
        }
      ]
    },
    {
      "cell_type": "markdown",
      "source": [
        "*Т.к. наименьшее количество слов 350228, возьмем данное число для балансировки округлив его до 350000*"
      ],
      "metadata": {
        "id": "OymLHoYoM_Q9"
      }
    },
    {
      "cell_type": "code",
      "source": [
        "seq_train_balance = [seq_train[cls][:350000] for cls in range(len(CLASS_LIST))]"
      ],
      "metadata": {
        "id": "r1CaEWMDNLMC"
      },
      "execution_count": null,
      "outputs": []
    },
    {
      "cell_type": "markdown",
      "source": [
        "Визуальная проверка балансировки"
      ],
      "metadata": {
        "id": "tnGqs8TINS02"
      }
    },
    {
      "cell_type": "code",
      "source": [
        "import matplotlib.pyplot as plt\n",
        "%matplotlib inline\n",
        "fig, ax = plt.subplots()\n",
        "ax.pie([len(i) for i in seq_train_balance], # формируем список значений как длина символов текста каждого автора\n",
        "       labels=CLASS_LIST,                    # список меток\n",
        "       pctdistance=1.2,                      # дистанция размещения % (1 - граница окружности)\n",
        "       labeldistance=1.4,                    # размещение меток (1 - граница окружности)\n",
        "       autopct='%1.2f%%'                     # формат для % (2 знака после запятой)\n",
        "      )\n",
        "plt.show()"
      ],
      "metadata": {
        "colab": {
          "base_uri": "https://localhost:8080/",
          "height": 406
        },
        "id": "1M6KLMAMNW4T",
        "outputId": "9094bda5-4d93-4a2e-da5d-6d85490b6d62"
      },
      "execution_count": null,
      "outputs": [
        {
          "output_type": "display_data",
          "data": {
            "text/plain": [
              "<Figure size 640x480 with 1 Axes>"
            ],
            "image/png": "[encoded data removed]"
          },
          "metadata": {}
        }
      ]
    },
    {
      "cell_type": "code",
      "source": [
        "CLASS_LIST"
      ],
      "metadata": {
        "colab": {
          "base_uri": "https://localhost:8080/"
        },
        "id": "Aq6ZpMKXVwuM",
        "outputId": "b37035e8-93f4-4143-8746-8294b87a51e6"
      },
      "execution_count": null,
      "outputs": [
        {
          "output_type": "execute_result",
          "data": {
            "text/plain": [
              "['Dostoevsky', 'Tolstoy', 'Gorky', 'Bryusov']"
            ]
          },
          "metadata": {},
          "execution_count": 17
        }
      ]
    },
    {
      "cell_type": "markdown",
      "source": [
        "**Метод скользящего окна**\n",
        "\n",
        "*Для разбиения на обучающую, валидационную и контрольную выборки*"
      ],
      "metadata": {
        "id": "Qj9rPNxwNu0e"
      }
    },
    {
      "cell_type": "code",
      "source": [
        "WIN_SIZE = 1000   # Ширина окна в токенах\n",
        "WIN_STEP = 100    # Шаг окна в токенах\n",
        "\n",
        "# Функция разбиения последовательности на отрезки скользящим окном\n",
        "# Последовательность разбивается на части до последнего полного окна\n",
        "# Параметры:\n",
        "# sequence - последовательность токенов\n",
        "# win_size - размер окна\n",
        "# step - шаг окна\n",
        "def seq_split(sequence, WIN_SIZE, step):\n",
        "    # Делим строку на отрезки с помощью генератора цикла\n",
        "    return [sequence[i:i + WIN_SIZE] for i in range(0, len(sequence) - WIN_SIZE + 1, step)]\n",
        "\n",
        "def seq_vectorize(\n",
        "    seq_list,   # Последовательность\n",
        "    test_split, # Доля на тестовую выборку\n",
        "    control_split, #Доля на контрольную выборку\n",
        "    class_list, # Список классов\n",
        "    win_size,   # Ширина скользящего окна\n",
        "    step        # Шаг скользящего окна\n",
        "):\n",
        "\n",
        "    # Списки для результирующих данных\n",
        "    x_train, y_train, x_test, y_test, x_control, y_control =  [], [], [], [], [], []\n",
        "\n",
        "    # Пробежимся по всем классам:\n",
        "    for class_item in CLASS_LIST:\n",
        "        # Получим индекс класса\n",
        "        cls = CLASS_LIST.index(class_item)\n",
        "\n",
        "        # Пороговое значение индекса для разбивки на тестовую, обучающую и контрольную выборки\n",
        "        gate_split = int(len(seq_list[cls]) * (1-test_split - control_split))\n",
        "        gate_split_contl = int(len(seq_list[cls]) * (1 -control_split))\n",
        "\n",
        "        # Разбиваем последовательность токенов класса на отрезки\n",
        "        vectors_train = seq_split(seq_list[cls][:gate_split], WIN_SIZE, step) # последовательность до порога попадет в обучающую выборку\n",
        "        vectors_test = seq_split(seq_list[cls][gate_split:gate_split_contl], WIN_SIZE, step)  # последовательность после порога попадет в тестовую выборку\n",
        "        vectors_control = seq_split(seq_list[cls][gate_split_contl:], WIN_SIZE, step)  # последовательность после порога тестовой выборки попадет в контрольную выборку\n",
        "\n",
        "        # Добавляем отрезки в выборку\n",
        "        x_train += vectors_train\n",
        "        x_test += vectors_test\n",
        "        x_control += vectors_control\n",
        "\n",
        "        # Для всех отрезков класса добавляем метки класса в виде one-hot-encoding\n",
        "        # Каждую метку берем len(vectors) раз, так она одинакова для всех выборок одного класса\n",
        "        y_train += [to_categorical(cls, len(CLASS_LIST))] * len(vectors_train)\n",
        "        y_test += [to_categorical(cls, len(CLASS_LIST))] * len(vectors_test)\n",
        "        y_control += [to_categorical(cls, len(CLASS_LIST))] * len(vectors_control)\n",
        "\n",
        "    # Возвращаем результатов как numpy-массивов\n",
        "    return np.array(x_train), np.array(y_train), np.array(x_test), np.array(y_test), np.array(x_control), np.array(y_control)"
      ],
      "metadata": {
        "id": "9VxFo9DkN9PI"
      },
      "execution_count": null,
      "outputs": []
    },
    {
      "cell_type": "code",
      "source": [
        "x_train, y_train, x_test, y_test, x_control, y_control = seq_vectorize(seq_train_balance, 0.1, 0.1, CLASS_LIST, WIN_SIZE, WIN_STEP)"
      ],
      "metadata": {
        "id": "qgbZo6vhVlHw"
      },
      "execution_count": null,
      "outputs": []
    },
    {
      "cell_type": "markdown",
      "source": [
        "**Проверка входной формы для выборок**"
      ],
      "metadata": {
        "id": "iPbCHpF5X_j2"
      }
    },
    {
      "cell_type": "code",
      "source": [
        "print(f'Форма входных данных для обучающей выборки: {x_train.shape}')\n",
        "print(f'Форма выходных данных (меток) для обучающей выборки: {y_train.shape}')\n",
        "print()\n",
        "print(f'Форма входных данных для тестовой выборки: {x_test.shape}')\n",
        "print(f'Форма выходных данных (меток) для тестовой выборки: {y_test.shape}')\n",
        "print()\n",
        "print(f'Форма входных данных для контрольной выборки: {x_control.shape}')\n",
        "print(f'Форма выходных данных (меток) для контрольной выборки: {y_control.shape}')"
      ],
      "metadata": {
        "colab": {
          "base_uri": "https://localhost:8080/"
        },
        "id": "UNIUTemYYCoS",
        "outputId": "44f8222e-6f44-4d45-b3ba-7c8c248fdc89"
      },
      "execution_count": null,
      "outputs": [
        {
          "output_type": "stream",
          "name": "stdout",
          "text": [
            "Форма входных данных для обучающей выборки: (11164, 1000)\n",
            "Форма выходных данных (меток) для обучающей выборки: (11164, 4)\n",
            "\n",
            "Форма входных данных для тестовой выборки: (1364, 1000)\n",
            "Форма выходных данных (меток) для тестовой выборки: (1364, 4)\n",
            "\n",
            "Форма входных данных для контрольной выборки: (1364, 1000)\n",
            "Форма выходных данных (меток) для контрольной выборки: (1364, 4)\n"
          ]
        }
      ]
    },
    {
      "cell_type": "markdown",
      "source": [
        "**Вспомогательные функции**"
      ],
      "metadata": {
        "id": "wkG0jJo9Yblh"
      }
    },
    {
      "cell_type": "code",
      "source": [
        "# Вывод графиков точности и ошибки\n",
        "def show_plot(history, title=''):\n",
        "    fig, (ax1, ax2) = plt.subplots(1, 2, figsize=(18, 5))\n",
        "    fig.suptitle('График процесса обучения модели: '+title)\n",
        "    ax1.plot(history.history['accuracy'],\n",
        "               label='График точности на обучающей выборке')\n",
        "    ax1.plot(history.history['val_accuracy'],\n",
        "               label='График точности на проверочной выборке')\n",
        "    ax1.xaxis.get_major_locator().set_params(integer=True) # На оси х показываем целые числа\n",
        "    ax1.set_xlabel('Эпоха обучения')\n",
        "    ax1.set_ylabel('График точности')\n",
        "    ax1.legend()\n",
        "\n",
        "    ax2.plot(history.history['loss'],\n",
        "               label='Ошибка на обучающей выборке')\n",
        "    ax2.plot(history.history['val_loss'],\n",
        "               label='Ошибка на проверочной выборке')\n",
        "    ax2.xaxis.get_major_locator().set_params(integer=True) # На оси х показываем целые числа\n",
        "    ax2.set_xlabel('Эпоха обучения')\n",
        "    ax2.set_ylabel('Ошибка')\n",
        "    ax2.legend()\n",
        "    plt.show()\n",
        "\n",
        "# Функция вывода предсказанных значений\n",
        "def show_confusion_matrix(y_true, y_pred, class_labels):\n",
        "    # Матрица ошибок\n",
        "    cm = confusion_matrix(np.argmax(y_true, axis=1),\n",
        "                          np.argmax(y_pred, axis=1),\n",
        "                          normalize='true')\n",
        "    # Округление значений матрицы ошибок\n",
        "    cm = np.around(cm, 3)\n",
        "\n",
        "    # Отрисовка матрицы ошибок\n",
        "    fig, ax = plt.subplots(figsize=(10, 10))\n",
        "    ax.set_title(f'Матрица ошибок', fontsize=18)\n",
        "    disp = ConfusionMatrixDisplay(confusion_matrix=cm, display_labels=class_labels)\n",
        "    disp.plot(ax=ax)\n",
        "    plt.gca().images[-1].colorbar.remove()  # Убираем ненужную цветовую шкалу\n",
        "    plt.xlabel('Предсказанные классы', fontsize=16)\n",
        "    plt.ylabel('Верные классы', fontsize=16)\n",
        "    fig.autofmt_xdate(rotation=45)          # Наклон меток горизонтальной оси\n",
        "    plt.show()\n",
        "\n",
        "\n",
        "    # Средняя точность распознавания определяется как среднее диагональных элементов матрицы ошибок\n",
        "    print('\\nСредняя точность распознавания: {:3.0f}%'.format(100. * cm.diagonal().mean()))"
      ],
      "metadata": {
        "id": "akO_Uq7cYd1c"
      },
      "execution_count": null,
      "outputs": []
    },
    {
      "cell_type": "markdown",
      "source": [
        "**Функция загрузки весов Наташи для Embedding**"
      ],
      "metadata": {
        "id": "n5EeUr_lYiKF"
      }
    },
    {
      "cell_type": "code",
      "source": [
        "def loadEmbedding(model):\n",
        "    word_index = tokenizer.word_index\n",
        "    embeddings_index = navec\n",
        "\n",
        "    embedding_matrix = np.zeros((max_words, embedding_dim))\n",
        "    for word, i in word_index.items():\n",
        "        if i < max_words:\n",
        "            embedding_vector = embeddings_index.get(word)\n",
        "            if embedding_vector is not None:\n",
        "                embedding_matrix[i] = embedding_vector\n",
        "\n",
        "    model.layers[0].set_weights([embedding_matrix])\n",
        "    model.layers[0].trainable = False\n",
        "    return model"
      ],
      "metadata": {
        "id": "oCnLYKnTYh7F"
      },
      "execution_count": null,
      "outputs": []
    },
    {
      "cell_type": "markdown",
      "source": [
        "**Построение архитектуры модели**"
      ],
      "metadata": {
        "id": "H7-Y9WyGZJxI"
      }
    },
    {
      "cell_type": "code",
      "source": [
        "model_MIX = Sequential()\n",
        "model_MIX.add(Embedding(max_words, embedding_dim, input_length=WIN_SIZE))\n",
        "model_MIX.add(SpatialDropout1D(0.3))\n",
        "model_MIX.add(BatchNormalization())\n",
        "\n",
        "# Два двунаправленных рекуррентных слоя LSTM\n",
        "model_MIX.add(Bidirectional(LSTM(8, return_sequences=True)))\n",
        "model_MIX.add(Bidirectional(LSTM(8, return_sequences=True)))\n",
        "model_MIX.add(Dropout(0.3))\n",
        "model_MIX.add(BatchNormalization())\n",
        "\n",
        "# Два рекуррентных слоя GRU\n",
        "model_MIX.add(GRU(16, return_sequences=True, reset_after=True))\n",
        "model_MIX.add(GRU(16, reset_after=True))\n",
        "model_MIX.add(Dropout(0.3))\n",
        "model_MIX.add(BatchNormalization())\n",
        "\n",
        "# Дополнительный полносвязный слой\n",
        "model_MIX.add(Dense(100, activation='relu'))\n",
        "model_MIX.add(Dropout(0.3))\n",
        "model_MIX.add(BatchNormalization())\n",
        "model_MIX.add(Dense(len(CLASS_LIST), activation='softmax'))"
      ],
      "metadata": {
        "id": "iz4fMt2IZNmB"
      },
      "execution_count": null,
      "outputs": []
    },
    {
      "cell_type": "code",
      "source": [
        "#загрузка эмбдинга\n",
        "model_MIX = loadEmbedding(model_MIX)"
      ],
      "metadata": {
        "id": "9vW635lBgd0V"
      },
      "execution_count": null,
      "outputs": []
    },
    {
      "cell_type": "code",
      "source": [
        "model_MIX.compile(optimizer='adam', loss='categorical_crossentropy', metrics=['accuracy'])"
      ],
      "metadata": {
        "id": "DAh8ClYqzhdZ"
      },
      "execution_count": null,
      "outputs": []
    },
    {
      "cell_type": "code",
      "source": [
        "model_MIX.summary()"
      ],
      "metadata": {
        "colab": {
          "base_uri": "https://localhost:8080/"
        },
        "id": "C3HZj8tJfpXF",
        "outputId": "fc41b8a6-2d87-4bf2-f0de-b8a10d2dc5e9"
      },
      "execution_count": null,
      "outputs": [
        {
          "output_type": "stream",
          "name": "stdout",
          "text": [
            "Model: \"sequential\"\n",
            "_________________________________________________________________\n",
            " Layer (type)                Output Shape              Param #   \n",
            "=================================================================\n",
            " embedding (Embedding)       (None, 1000, 300)         4500000   \n",
            "                                                                 \n",
            " spatial_dropout1d (Spatial  (None, 1000, 300)         0         \n",
            " Dropout1D)                                                      \n",
            "                                                                 \n",
            " batch_normalization (Batch  (None, 1000, 300)         1200      \n",
            " Normalization)                                                  \n",
            "                                                                 \n",
            " bidirectional (Bidirection  (None, 1000, 16)          19776     \n",
            " al)                                                             \n",
            "                                                                 \n",
            " bidirectional_1 (Bidirecti  (None, 1000, 16)          1600      \n",
            " onal)                                                           \n",
            "                                                                 \n",
            " dropout (Dropout)           (None, 1000, 16)          0         \n",
            "                                                                 \n",
            " batch_normalization_1 (Bat  (None, 1000, 16)          64        \n",
            " chNormalization)                                                \n",
            "                                                                 \n",
            " gru (GRU)                   (None, 1000, 16)          1632      \n",
            "                                                                 \n",
            " gru_1 (GRU)                 (None, 16)                1632      \n",
            "                                                                 \n",
            " dropout_1 (Dropout)         (None, 16)                0         \n",
            "                                                                 \n",
            " batch_normalization_2 (Bat  (None, 16)                64        \n",
            " chNormalization)                                                \n",
            "                                                                 \n",
            " dense (Dense)               (None, 100)               1700      \n",
            "                                                                 \n",
            " dropout_2 (Dropout)         (None, 100)               0         \n",
            "                                                                 \n",
            " batch_normalization_3 (Bat  (None, 100)               400       \n",
            " chNormalization)                                                \n",
            "                                                                 \n",
            " dense_1 (Dense)             (None, 4)                 404       \n",
            "                                                                 \n",
            "=================================================================\n",
            "Total params: 4528472 (17.27 MB)\n",
            "Trainable params: 27608 (107.84 KB)\n",
            "Non-trainable params: 4500864 (17.17 MB)\n",
            "_________________________________________________________________\n"
          ]
        }
      ]
    },
    {
      "cell_type": "code",
      "source": [
        "history_mix = model_MIX.fit(x_train, y_train, epochs=15, batch_size=128, validation_data=(x_test, y_test))"
      ],
      "metadata": {
        "colab": {
          "base_uri": "https://localhost:8080/"
        },
        "id": "uy7TQJq3gko3",
        "outputId": "006ab127-7f67-4229-ffe4-abb96c0736a9"
      },
      "execution_count": null,
      "outputs": [
        {
          "output_type": "stream",
          "name": "stdout",
          "text": [
            "Epoch 1/15\n",
            "88/88 [==============================] - 41s 215ms/step - loss: 1.6536 - accuracy: 0.2678 - val_loss: 1.3785 - val_accuracy: 0.2808\n",
            "Epoch 2/15\n",
            "88/88 [==============================] - 17s 199ms/step - loss: 1.4939 - accuracy: 0.2955 - val_loss: 1.3298 - val_accuracy: 0.4135\n",
            "Epoch 3/15\n",
            "88/88 [==============================] - 17s 188ms/step - loss: 1.3813 - accuracy: 0.3490 - val_loss: 1.2101 - val_accuracy: 0.4817\n",
            "Epoch 4/15\n",
            "88/88 [==============================] - 17s 192ms/step - loss: 1.2707 - accuracy: 0.4304 - val_loss: 1.0330 - val_accuracy: 0.5638\n",
            "Epoch 5/15\n",
            "88/88 [==============================] - 18s 204ms/step - loss: 1.1316 - accuracy: 0.5138 - val_loss: 0.7718 - val_accuracy: 0.6554\n",
            "Epoch 6/15\n",
            "88/88 [==============================] - 17s 194ms/step - loss: 0.9901 - accuracy: 0.5933 - val_loss: 0.6682 - val_accuracy: 0.6906\n",
            "Epoch 7/15\n",
            "88/88 [==============================] - 17s 197ms/step - loss: 0.8976 - accuracy: 0.6410 - val_loss: 0.6448 - val_accuracy: 0.7207\n",
            "Epoch 8/15\n",
            "88/88 [==============================] - 18s 206ms/step - loss: 0.8156 - accuracy: 0.6737 - val_loss: 0.4802 - val_accuracy: 0.7991\n",
            "Epoch 9/15\n",
            "88/88 [==============================] - 17s 189ms/step - loss: 0.7292 - accuracy: 0.7144 - val_loss: 0.4409 - val_accuracy: 0.7933\n",
            "Epoch 10/15\n",
            "88/88 [==============================] - 17s 194ms/step - loss: 0.8111 - accuracy: 0.6737 - val_loss: 0.5430 - val_accuracy: 0.7823\n",
            "Epoch 11/15\n",
            "88/88 [==============================] - 17s 190ms/step - loss: 0.6828 - accuracy: 0.7470 - val_loss: 0.3107 - val_accuracy: 0.8886\n",
            "Epoch 12/15\n",
            "88/88 [==============================] - 17s 195ms/step - loss: 0.5367 - accuracy: 0.8181 - val_loss: 0.2773 - val_accuracy: 0.9040\n",
            "Epoch 13/15\n",
            "88/88 [==============================] - 18s 206ms/step - loss: 0.6556 - accuracy: 0.7468 - val_loss: 0.5708 - val_accuracy: 0.7713\n",
            "Epoch 14/15\n",
            "88/88 [==============================] - 17s 196ms/step - loss: 0.4398 - accuracy: 0.8430 - val_loss: 0.1899 - val_accuracy: 0.9304\n",
            "Epoch 15/15\n",
            "88/88 [==============================] - 18s 202ms/step - loss: 0.2932 - accuracy: 0.9029 - val_loss: 0.1305 - val_accuracy: 0.9494\n"
          ]
        }
      ]
    },
    {
      "cell_type": "markdown",
      "source": [
        "**Матрица ошибок на валидационной выборке**"
      ],
      "metadata": {
        "id": "CVKzh2EnzbWj"
      }
    },
    {
      "cell_type": "code",
      "source": [
        "y_pred_mix = model_MIX.predict(x_test)\n",
        "show_confusion_matrix(y_test, y_pred_mix, CLASS_LIST)"
      ],
      "metadata": {
        "colab": {
          "base_uri": "https://localhost:8080/",
          "height": 902
        },
        "id": "Kh4ZHCo4vin9",
        "outputId": "1740b6a9-07a3-48e5-bade-8fe43219275b"
      },
      "execution_count": null,
      "outputs": [
        {
          "output_type": "stream",
          "name": "stdout",
          "text": [
            "43/43 [==============================] - 5s 74ms/step\n"
          ]
        },
        {
          "output_type": "display_data",
          "data": {
            "text/plain": [
              "<Figure size 1000x1000 with 1 Axes>"
            ],
            "image/png": "[encoded data removed]"
          },
          "metadata": {}
        },
        {
          "output_type": "stream",
          "name": "stdout",
          "text": [
            "\n",
            "Средняя точность распознавания:  97%\n"
          ]
        }
      ]
    },
    {
      "cell_type": "markdown",
      "source": [
        "**Матрица ошибок на контрольной выборке**"
      ],
      "metadata": {
        "id": "IGyoxxDXzgTi"
      }
    },
    {
      "cell_type": "code",
      "source": [
        "y_pred_mix = model_MIX.predict(x_control)\n",
        "show_confusion_matrix(y_control, y_pred_mix, CLASS_LIST)"
      ],
      "metadata": {
        "colab": {
          "base_uri": "https://localhost:8080/",
          "height": 902
        },
        "id": "rFNe_ClfzEdy",
        "outputId": "498e9d14-2c34-4ab1-acc9-920b5a099c71"
      },
      "execution_count": null,
      "outputs": [
        {
          "output_type": "stream",
          "name": "stdout",
          "text": [
            "43/43 [==============================] - 4s 86ms/step\n"
          ]
        },
        {
          "output_type": "display_data",
          "data": {
            "text/plain": [
              "<Figure size 1000x1000 with 1 Axes>"
            ],
            "image/png": "[encoded data removed]"
          },
          "metadata": {}
        },
        {
          "output_type": "stream",
          "name": "stdout",
          "text": [
            "\n",
            "Средняя точность распознавания:  96%\n"
          ]
        }
      ]
    },
    {
      "cell_type": "markdown",
      "source": [
        "*Средняя точность распознования на контрольной выборке составляет 96% что удовлетворяет условию задачи*"
      ],
      "metadata": {
        "id": "AnMJ0MYuzrPe"
      }
    },
    {
      "cell_type": "markdown",
      "source": [
        "**8 пункт задачи**\n",
        "\n",
        "Анализ стихотворения Сергея Александровича Есенина - Письмо к женщине"
      ],
      "metadata": {
        "id": "uR5Tw0Uwz00m"
      }
    },
    {
      "cell_type": "code",
      "source": [
        "!wget https://storage.yandexcloud.net/preview/text.txt"
      ],
      "metadata": {
        "colab": {
          "base_uri": "https://localhost:8080/"
        },
        "id": "wDGUvJiQ1ZWX",
        "outputId": "28195fc9-714d-4585-fe14-eb1663ed538e"
      },
      "execution_count": null,
      "outputs": [
        {
          "output_type": "stream",
          "name": "stdout",
          "text": [
            "--2024-04-23 00:56:05--  https://storage.yandexcloud.net/preview/text.txt\n",
            "Resolving storage.yandexcloud.net (storage.yandexcloud.net)... 213.180.193.243, 2a02:6b8::1d9\n",
            "Connecting to storage.yandexcloud.net (storage.yandexcloud.net)|213.180.193.243|:443... connected.\n",
            "HTTP request sent, awaiting response... 200 OK\n",
            "Length: 3914 (3.8K) [text/plain]\n",
            "Saving to: ‘text.txt’\n",
            "\n",
            "text.txt            100%[===================>]   3.82K  --.-KB/s    in 0s      \n",
            "\n",
            "2024-04-23 00:56:07 (1.28 GB/s) - ‘text.txt’ saved [3914/3914]\n",
            "\n"
          ]
        }
      ]
    },
    {
      "cell_type": "markdown",
      "source": [
        "**Чтение файла**"
      ],
      "metadata": {
        "id": "n5IAf6cM-j_J"
      }
    },
    {
      "cell_type": "code",
      "source": [
        "with open(\"text.txt\") as file:\n",
        "    stih = file.read()"
      ],
      "metadata": {
        "id": "Cghk5RPU-m8p"
      },
      "execution_count": null,
      "outputs": []
    },
    {
      "cell_type": "markdown",
      "source": [
        "**Формируем текст файла в dict**"
      ],
      "metadata": {
        "id": "-djzyrngRwYL"
      }
    },
    {
      "cell_type": "code",
      "source": [
        "dict_stih = {}\n",
        "dict_stih['author'] = stih.replace('\\n', ' ') #Инициализация ключ словаря с текстом из файла"
      ],
      "metadata": {
        "id": "ooPd27myRwz7"
      },
      "execution_count": null,
      "outputs": []
    },
    {
      "cell_type": "code",
      "source": [
        "print(dict_stih)"
      ],
      "metadata": {
        "id": "FaZ_Eqo2TYhM",
        "colab": {
          "base_uri": "https://localhost:8080/"
        },
        "outputId": "14c01c1e-926d-49ee-dcf6-285280a24267"
      },
      "execution_count": null,
      "outputs": [
        {
          "output_type": "stream",
          "name": "stdout",
          "text": [
            "{'author': 'Письмо к женщине Вы помните, Вы все, конечно, помните, Как я стоял, Приблизившись к стене, Взволнованно ходили вы по комнате И что-то резкое В лицо бросали мне. Вы говорили: Нам пора расстаться, Что вас измучила Моя шальная жизнь, Что вам пора за дело приниматься, А мой удел — Катиться дальше, вниз. Любимая! Меня вы не любили. Не знали вы, что в сонмище людском Я был, как лошадь, загнанная в мыле, Пришпоренная смелым ездоком. Не знали вы, Что я в сплошном дыму, В развороченном бурей быте С того и мучаюсь, что не пойму — Куда несет нас рок событий. Лицом к лицу Лица не увидать. Большое видится на расстоянье. Когда кипит морская гладь, Корабль в плачевном состоянье. Земля — корабль! Но кто-то вдруг За новой жизнью, новой славой В прямую гущу бурь и вьюг Ее направил величаво. Ну кто ж из нас на палубе большой Не падал, не блевал и не ругался? Их мало, с опытной душой, Кто крепким в качке оставался. Тогда и я Под дикий шум, Но зрело знающий работу, Спустился в корабельный трюм, Чтоб не смотреть людскую рвоту. Тот трюм был — Русским кабаком. И я склонился над стаканом, Чтоб, не страдая ни о ком, Себя сгубить В угаре пьяном. Любимая! Я мучил вас, У вас была тоска В глазах усталых: Что я пред вами напоказ Себя растрачивал в скандалах. Но вы не знали, Что в сплошном дыму, В развороченном бурей быте С того и мучаюсь, Что не пойму, Куда несет нас рок событий… Теперь года прошли, Я в возрасте ином. И чувствую и мыслю по-иному. И говорю за праздничным вином: Хвала и слава рулевому! Сегодня я В ударе нежных чувств. Я вспомнил вашу грустную усталость. И вот теперь Я сообщить вам мчусь, Каков я был И что со мною сталось! Любимая! Сказать приятно мне: Я избежал паденья с кручи. Теперь в Советской стороне Я самый яростный попутчик. Я стал не тем, Кем был тогда. Не мучил бы я вас, Как это было раньше. За знамя вольности И светлого труда Готов идти хоть до Ла-Манша. Простите мне… Я знаю: вы не та — Живете вы С серьезным, умным мужем; Что не нужна вам наша маета, И сам я вам Ни капельки не нужен. Живите так, Как вас ведет звезда, Под кущей обновленной сени. С приветствием, Вас помнящий всегда Знакомый ваш Сергей Есенин. '}\n"
          ]
        }
      ]
    },
    {
      "cell_type": "markdown",
      "source": [
        "**Преобразование текста в последовательность**"
      ],
      "metadata": {
        "id": "uq_vS0MFAllx"
      }
    },
    {
      "cell_type": "code",
      "source": [
        "embedding_dim = 300    # размерность векторов эмбединга (300d в имени эмбединга)\n",
        "max_words = 15000      # Количество слов, рассматриваемых как признаки\n",
        "tokenizer = Tokenizer(num_words=max_words,\n",
        "                      filters='!\"#$%&()*+,-–—./…:;<=>?@[\\\\]^_`{|}~«»\\t\\n\\xa0\\ufeff',\n",
        "                      lower=True, split=' ', char_level=False)\n",
        "\n",
        "tokenizer.fit_on_texts(dict_stih.values())\n",
        "seq_train_stih = tokenizer.texts_to_sequences(dict_stih.values())"
      ],
      "metadata": {
        "id": "TTFMS-dNAore"
      },
      "execution_count": null,
      "outputs": []
    },
    {
      "cell_type": "code",
      "source": [
        "print(dict_stih)"
      ],
      "metadata": {
        "colab": {
          "base_uri": "https://localhost:8080/"
        },
        "id": "oeVSjl8zxveB",
        "outputId": "733b8192-9e20-434d-d1e9-8c5139a1aa63"
      },
      "execution_count": null,
      "outputs": [
        {
          "output_type": "stream",
          "name": "stdout",
          "text": [
            "{'author': 'Письмо к женщине Вы помните, Вы все, конечно, помните, Как я стоял, Приблизившись к стене, Взволнованно ходили вы по комнате И что-то резкое В лицо бросали мне. Вы говорили: Нам пора расстаться, Что вас измучила Моя шальная жизнь, Что вам пора за дело приниматься, А мой удел — Катиться дальше, вниз. Любимая! Меня вы не любили. Не знали вы, что в сонмище людском Я был, как лошадь, загнанная в мыле, Пришпоренная смелым ездоком. Не знали вы, Что я в сплошном дыму, В развороченном бурей быте С того и мучаюсь, что не пойму — Куда несет нас рок событий. Лицом к лицу Лица не увидать. Большое видится на расстоянье. Когда кипит морская гладь, Корабль в плачевном состоянье. Земля — корабль! Но кто-то вдруг За новой жизнью, новой славой В прямую гущу бурь и вьюг Ее направил величаво. Ну кто ж из нас на палубе большой Не падал, не блевал и не ругался? Их мало, с опытной душой, Кто крепким в качке оставался. Тогда и я Под дикий шум, Но зрело знающий работу, Спустился в корабельный трюм, Чтоб не смотреть людскую рвоту. Тот трюм был — Русским кабаком. И я склонился над стаканом, Чтоб, не страдая ни о ком, Себя сгубить В угаре пьяном. Любимая! Я мучил вас, У вас была тоска В глазах усталых: Что я пред вами напоказ Себя растрачивал в скандалах. Но вы не знали, Что в сплошном дыму, В развороченном бурей быте С того и мучаюсь, Что не пойму, Куда несет нас рок событий… Теперь года прошли, Я в возрасте ином. И чувствую и мыслю по-иному. И говорю за праздничным вином: Хвала и слава рулевому! Сегодня я В ударе нежных чувств. Я вспомнил вашу грустную усталость. И вот теперь Я сообщить вам мчусь, Каков я был И что со мною сталось! Любимая! Сказать приятно мне: Я избежал паденья с кручи. Теперь в Советской стороне Я самый яростный попутчик. Я стал не тем, Кем был тогда. Не мучил бы я вас, Как это было раньше. За знамя вольности И светлого труда Готов идти хоть до Ла-Манша. Простите мне… Я знаю: вы не та — Живете вы С серьезным, умным мужем; Что не нужна вам наша маета, И сам я вам Ни капельки не нужен. Живите так, Как вас ведет звезда, Под кущей обновленной сени. С приветствием, Вас помнящий всегда Знакомый ваш Сергей Есенин. '}\n"
          ]
        }
      ]
    },
    {
      "cell_type": "code",
      "source": [
        "print(seq_train_stih)"
      ],
      "metadata": {
        "id": "CZiLnDo_bOWg",
        "colab": {
          "base_uri": "https://localhost:8080/"
        },
        "outputId": "447bfeac-29d0-4709-f87f-f1446d3ee624"
      },
      "execution_count": null,
      "outputs": [
        {
          "output_type": "stream",
          "name": "stdout",
          "text": [
            "[[47, 13, 48, 6, 21, 6, 49, 50, 21, 9, 1, 51, 52, 13, 53, 54, 55, 6, 22, 56, 4, 5, 23, 57, 2, 58, 59, 14, 6, 60, 61, 24, 62, 5, 7, 63, 64, 65, 66, 5, 10, 24, 11, 67, 68, 69, 70, 71, 72, 73, 74, 15, 75, 6, 3, 76, 3, 16, 6, 5, 2, 77, 78, 1, 12, 9, 79, 80, 2, 81, 82, 83, 84, 3, 16, 6, 5, 1, 2, 25, 26, 2, 27, 28, 29, 8, 30, 4, 31, 5, 3, 32, 33, 34, 17, 35, 36, 85, 13, 86, 87, 3, 88, 89, 90, 37, 91, 92, 93, 94, 95, 38, 2, 96, 97, 98, 38, 18, 19, 23, 99, 11, 39, 100, 39, 101, 2, 102, 103, 104, 4, 105, 106, 107, 108, 109, 19, 110, 111, 17, 37, 112, 113, 3, 114, 3, 115, 4, 3, 116, 117, 118, 8, 119, 120, 19, 121, 2, 122, 123, 40, 4, 1, 41, 124, 125, 18, 126, 127, 128, 129, 2, 130, 42, 43, 3, 131, 132, 133, 134, 42, 12, 135, 136, 4, 1, 137, 138, 139, 43, 3, 140, 44, 141, 142, 45, 143, 2, 144, 145, 15, 1, 46, 7, 146, 7, 147, 148, 2, 149, 150, 5, 1, 151, 152, 153, 45, 154, 2, 155, 18, 6, 3, 16, 5, 2, 25, 26, 2, 27, 28, 29, 8, 30, 4, 31, 5, 3, 32, 33, 34, 17, 35, 36, 20, 156, 157, 1, 2, 158, 159, 4, 160, 4, 161, 22, 162, 4, 163, 11, 164, 165, 166, 4, 167, 168, 169, 1, 2, 170, 171, 172, 1, 173, 174, 175, 176, 4, 177, 20, 1, 178, 10, 179, 180, 1, 12, 4, 5, 181, 182, 183, 15, 184, 185, 14, 1, 186, 187, 8, 188, 20, 2, 189, 190, 1, 191, 192, 193, 1, 194, 3, 195, 196, 12, 40, 3, 46, 197, 1, 7, 9, 198, 199, 200, 11, 201, 202, 4, 203, 204, 205, 206, 207, 208, 209, 210, 211, 14, 1, 212, 6, 3, 213, 214, 6, 8, 215, 216, 217, 5, 3, 218, 10, 219, 220, 4, 221, 1, 10, 44, 222, 3, 223, 224, 225, 9, 7, 226, 227, 41, 228, 229, 230, 8, 231, 7, 232, 233, 234, 235, 236, 237]]\n"
          ]
        }
      ]
    },
    {
      "cell_type": "markdown",
      "source": [
        "**Модернизация функции \"seq_vectorize\" для преобразования \"seq_train_stih\" в массив numpy**"
      ],
      "metadata": {
        "id": "EatvBZq7NhYG"
      }
    },
    {
      "cell_type": "code",
      "source": [
        "from itertools import repeat"
      ],
      "metadata": {
        "id": "93wuzjUpkhzm"
      },
      "execution_count": null,
      "outputs": []
    },
    {
      "cell_type": "code",
      "source": [
        "WIN_SIZE = 1000   # Ширина окна в токенах\n",
        "WIN_STEP = 100    # Шаг окна в токенах\n",
        "\n",
        "# Функция разбиения последовательности на отрезки скользящим окном\n",
        "# Последовательность разбивается на части до последнего полного окна\n",
        "# Параметры:\n",
        "# sequence - последовательность токенов\n",
        "# win_size - размер окна\n",
        "# step - шаг окна\n",
        "def seq_split(sequence, WIN_SIZE, step):\n",
        "    i = int(len(sequence))\n",
        "    # Делим строку на отрезки с помощью генератора цикла\n",
        "    #return [sequence[i:i + WIN_SIZE] for i in range(0, len(sequence) - WIN_SIZE + 1, step)]\n",
        "    return [sequence[0:i + WIN_SIZE]]\n",
        "\n",
        "def seq_vectorize_pred(\n",
        "    seq_list,   # Последовательность\n",
        "    win_size,   # Ширина скользящего окна\n",
        "    step        # Шаг скользящего окна\n",
        "):\n",
        "    gate_split_contl = int(len(seq_list[0]))\n",
        "\n",
        "    # Списки для результирующих данных\n",
        "    x_train =  []\n",
        "    # Разбиваем последовательность токенов класса на отрезки\n",
        "    vectors_train = seq_split(seq_list[0][:gate_split_contl], WIN_SIZE, step) # последовательность до порога попадет в обучающую выборку\n",
        "\n",
        "    i = int(len(seq_list[0]))\n",
        "    zeros = WIN_SIZE - i\n",
        "    # Заполняем 0-ми до нужного формата\n",
        "    x_train = [vectors_train[0] + list(repeat(0,zeros))]\n",
        "    # Возвращаем результатов как numpy-массивов\n",
        "    return np.array(x_train)"
      ],
      "metadata": {
        "id": "4gCDxwa3EVGD"
      },
      "execution_count": null,
      "outputs": []
    },
    {
      "cell_type": "code",
      "source": [
        "final_text = seq_vectorize_pred(seq_train_stih, WIN_SIZE, WIN_STEP)"
      ],
      "metadata": {
        "id": "U7K1eyPLJhMW"
      },
      "execution_count": null,
      "outputs": []
    },
    {
      "cell_type": "markdown",
      "source": [
        "**Проверяем формат получаемого результата из функции векторизации**"
      ],
      "metadata": {
        "id": "Sae3B2OqsLul"
      }
    },
    {
      "cell_type": "code",
      "source": [
        "#проверяем формат входных данных\n",
        "final_text.shape"
      ],
      "metadata": {
        "colab": {
          "base_uri": "https://localhost:8080/"
        },
        "id": "i8dz6WtvgJ7N",
        "outputId": "4f7ac91a-648e-4d84-86ae-4aa3072ec6ff"
      },
      "execution_count": null,
      "outputs": [
        {
          "output_type": "execute_result",
          "data": {
            "text/plain": [
              "(1, 1000)"
            ]
          },
          "metadata": {},
          "execution_count": 115
        }
      ]
    },
    {
      "cell_type": "code",
      "source": [
        "y_pred_mix = model_MIX.predict(final_text)"
      ],
      "metadata": {
        "id": "O89JuSq5Ig8A",
        "colab": {
          "base_uri": "https://localhost:8080/"
        },
        "outputId": "a91f1af0-5a89-4b28-c9b1-95920e332467"
      },
      "execution_count": null,
      "outputs": [
        {
          "output_type": "stream",
          "name": "stdout",
          "text": [
            "1/1 [==============================] - 0s 114ms/step\n"
          ]
        }
      ]
    },
    {
      "cell_type": "code",
      "source": [
        "y_pred_mix"
      ],
      "metadata": {
        "colab": {
          "base_uri": "https://localhost:8080/"
        },
        "id": "XvnQGgMpq60V",
        "outputId": "ea78cbb5-ff1a-42bd-c535-fa560d90c07d"
      },
      "execution_count": null,
      "outputs": [
        {
          "output_type": "execute_result",
          "data": {
            "text/plain": [
              "array([[0.01642064, 0.7816045 , 0.0047372 , 0.19723763]], dtype=float32)"
            ]
          },
          "metadata": {},
          "execution_count": 126
        }
      ]
    },
    {
      "cell_type": "code",
      "source": [
        "for item in y_pred_mix[0]:\n",
        "  print(item)"
      ],
      "metadata": {
        "colab": {
          "base_uri": "https://localhost:8080/"
        },
        "id": "tgQldTdFrXhW",
        "outputId": "7aee6399-98bd-437c-c634-6f158de0eae7"
      },
      "execution_count": null,
      "outputs": [
        {
          "output_type": "stream",
          "name": "stdout",
          "text": [
            "0.016420642\n",
            "0.7816045\n",
            "0.0047371956\n",
            "0.19723763\n"
          ]
        }
      ]
    },
    {
      "cell_type": "code",
      "source": [
        "CLASS_LIST"
      ],
      "metadata": {
        "id": "yGJJpMVytmTD",
        "outputId": "656c4c31-b710-4d7d-d490-afb50b6aecf9",
        "colab": {
          "base_uri": "https://localhost:8080/"
        }
      },
      "execution_count": null,
      "outputs": [
        {
          "output_type": "execute_result",
          "data": {
            "text/plain": [
              "['Dostoevsky', 'Tolstoy', 'Gorky', 'Bryusov']"
            ]
          },
          "metadata": {},
          "execution_count": 133
        }
      ]
    },
    {
      "cell_type": "markdown",
      "source": [
        "**Построение круговой диаграммы результатов**"
      ],
      "metadata": {
        "id": "QivLbmmPsWFJ"
      }
    },
    {
      "cell_type": "code",
      "source": [
        "import matplotlib.pyplot as plt\n",
        "%matplotlib inline\n",
        "fig, ax = plt.subplots()\n",
        "ax.pie([item for item in y_pred_mix[0]], # формируем список значений как длина символов текста каждого автора\n",
        "       labels=CLASS_LIST,                    # список меток\n",
        "       pctdistance=1.2,                      # дистанция размещения % (1 - граница окружности)\n",
        "       labeldistance=1.4,                    # размещение меток (1 - граница окружности)\n",
        "       autopct='%1.2f%%'                     # формат для % (2 знака после запятой)\n",
        "      )\n",
        "plt.show()"
      ],
      "metadata": {
        "colab": {
          "base_uri": "https://localhost:8080/",
          "height": 425
        },
        "id": "UxVn1s-Npftl",
        "outputId": "cd5f2d62-8120-40df-e8f4-ad1bb2b8cea4"
      },
      "execution_count": null,
      "outputs": [
        {
          "output_type": "display_data",
          "data": {
            "text/plain": [
              "<Figure size 640x480 with 1 Axes>"
            ],
            "image/png": "[encoded data removed]"
          },
          "metadata": {}
        }
      ]
    },
    {
      "cell_type": "markdown",
      "source": [
        "**Из визуализации круговой диаграммы результатов можно сделать вывод, что стихотворение Есенина в большей степени похоже на произведения Толстого**"
      ],
      "metadata": {
        "id": "CiyXW_4vro1E"
      }
    }
  ]
}